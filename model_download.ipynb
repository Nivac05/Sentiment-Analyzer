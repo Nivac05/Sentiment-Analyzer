!pip install gdown
import gdown

file_url = "https://drive.google.com/drive/folders/1MC_X4uADO0-ZNoeDfLMO0i8BjagxvSno?usp=sharing"
output = "model.zip"
gdown.download(file_url, output, quiet=False)
